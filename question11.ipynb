{
 "cells": [
  {
   "cell_type": "markdown",
   "id": "67bc234c-d190-4de8-b9aa-172cab5158b4",
   "metadata": {},
   "source": [
    "# Mojtaba\n",
    "Notebook for assignment 7"
   ]
  },
  {
   "cell_type": "code",
   "execution_count": 1,
   "id": "f2f60320-6360-4abf-a00d-1f2c56fb0f78",
   "metadata": {},
   "outputs": [
    {
     "name": "stdout",
     "output_type": "stream",
     "text": [
      "5.0\n"
     ]
    }
   ],
   "source": [
    "def compute_mean(lst):\n",
    "    mean = sum(lst) / len(lst)\n",
    "    print(mean)\n",
    "compute_mean([2, 4, 6, 8])"
   ]
  },
  {
   "cell_type": "markdown",
   "id": "31bb16f5-7c58-46f1-85d2-5a1ea03b880f",
   "metadata": {},
   "source": [
    "The function `compute_mean` takes a list of values as an input and computes the mean using the formula:\n",
    "\n",
    "\\begin{equation}\n",
    "\\bar{x} = \\frac{x_1 + x_2 + \\cdots + x_n}{n} = \\frac{1}{n}\\left(\\sum_{i=1}^n x_i\\right)\n",
    "\\end{equation}\n",
    "\n",
    "where $n$ is the number of values in the list."
   ]
  }
 ],
 "metadata": {
  "kernelspec": {
   "display_name": "Python [conda env:.conda-assignment-7]",
   "language": "python",
   "name": "conda-env-.conda-assignment-7-py"
  },
  "language_info": {
   "codemirror_mode": {
    "name": "ipython",
    "version": 3
   },
   "file_extension": ".py",
   "mimetype": "text/x-python",
   "name": "python",
   "nbconvert_exporter": "python",
   "pygments_lexer": "ipython3",
   "version": "3.11.3"
  }
 },
 "nbformat": 4,
 "nbformat_minor": 5
}
